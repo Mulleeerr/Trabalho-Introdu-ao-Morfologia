{
  "nbformat": 4,
  "nbformat_minor": 0,
  "metadata": {
    "colab": {
      "provenance": [],
      "include_colab_link": true
    },
    "kernelspec": {
      "name": "python3",
      "display_name": "Python 3"
    },
    "language_info": {
      "name": "python"
    }
  },
  "cells": [
    {
      "cell_type": "markdown",
      "metadata": {
        "id": "view-in-github",
        "colab_type": "text"
      },
      "source": [
        "<a href=\"https://colab.research.google.com/github/Mulleeerr/Trabalho-Introdu-ao-Morfologia/blob/main/TrabalhoExemplo_Morfologia.ipynb\" target=\"_parent\"><img src=\"https://colab.research.google.com/assets/colab-badge.svg\" alt=\"Open In Colab\"/></a>"
      ]
    },
    {
      "cell_type": "markdown",
      "source": [
        "Universidade do Vale do Itajaí<br>\n",
        "Escola do Mar, Ciência e Tecnologia<br>\n",
        "Professor Felipe Viel\n",
        "\n",
        "# Exemplo Morfologia\n",
        "\n",
        "### Tutoriais da OpenCV\n",
        "\n",
        "- https://docs.opencv.org/master/d9/df8/tutorial_root.html\n",
        "- https://www.geeksforgeeks.org/opencv-python-tutorial/"
      ],
      "metadata": {
        "id": "hs7F3RjrUjCH"
      }
    },
    {
      "cell_type": "code",
      "execution_count": 2,
      "metadata": {
        "id": "9ieiSWN_Uh5b"
      },
      "outputs": [],
      "source": [
        "#from https://opencv-python-tutroals.readthedocs.io/en/latest/py_tutorials/py_imgproc/py_morphological_ops/py_morphological_ops.html\n",
        "import cv2\n",
        "import numpy as np\n",
        "#caso for usar o Google Colab com a OpenCV, usar a lib abaixo\n",
        "from google.colab.patches import cv2_imshow\n",
        "\n",
        "# Nestas primeiras linhas do código, é feita a importação das bibliotecas que irão ser utilizadas pelo código\n",
        "# no caso a \"cv2\" e a \"numpy\"."
      ]
    },
    {
      "cell_type": "code",
      "source": [
        "img = cv2.imread('j.png',0) #Nesta , o código lê três imagens usando a função 'cv2.imread'. As imagens\n",
        "img_opening = cv2.imread('j_ruido.png',0) # no caso seriam a 'j.png', 'j_ruido.png' e 'j_furos.png',\n",
        "                                          # o número 0 seguido das imagens seria o parâmetro.\n",
        "img_closing = cv2.imread('j_furos.png',0) # que faz com que as imagens sejam lidas em escalas de cinza.\n",
        "\n",
        "altura, largura = img.shape # Nesta linha sao obtidas as dimensões da imagem usando 'shape'.\n",
        "kernel = np.ones((5,5),np.uint8) # 'Kernel' nesta linha, seria basicamente uma matriz que vai ser\n",
        "# utilizada no processo de morfologia de imagens, no caso deste código, é uma matriz 5x5\n",
        "print(kernel) # nesta linha ele mostra na tela usando 'print' a matriz kernel\n",
        "\n",
        "\n"
      ],
      "metadata": {
        "id": "8whvZbKhU03S"
      },
      "execution_count": null,
      "outputs": []
    },
    {
      "cell_type": "code",
      "source": [
        "erosion = cv2.erode(img,kernel,iterations = 2) #A função 'cv2.erode' realiza a erosão,\n",
        "dilation = cv2.dilate(img,kernel,iterations = 2) # a função 'cv2.dilate' realiza a dilatação.\n",
        "\n",
        "# Ambas as operações utilizam o kernel(matriz) definido anteriormente.\n",
        "# O parâmetro 'iterations' indica quantas vezes a operação será realizada e aplicada."
      ],
      "metadata": {
        "id": "RnKcRcjsU8VP"
      },
      "execution_count": null,
      "outputs": []
    },
    {
      "cell_type": "code",
      "source": [
        "gradient = cv2.morphologyEx(img, cv2.MORPH_GRADIENT, kernel)\n",
        "opening = cv2.morphologyEx(img_opening, cv2.MORPH_OPEN, kernel)\n",
        "closing = cv2.morphologyEx(img_closing, cv2.MORPH_CLOSE, kernel)\n",
        "\n",
        "# Aqui, estamos aplicando outras duas operações morfológicas: gradiente morfológico,\n",
        "# abertura morfológica e fechamento morfológico.\n",
        "# A função cv2.morphologyEx é usada para aplicar essas operações.\n",
        "# O primeiro argumento é a imagem de entrada, o segundo argumento é o tipo\n",
        "# de operação morfológica a ser realizada, e o terceiro argumento é o kernel a ser usado."
      ],
      "metadata": {
        "id": "WvTtlQWJU-tz"
      },
      "execution_count": null,
      "outputs": []
    },
    {
      "cell_type": "code",
      "source": [
        "cv2_imshow(img)\n",
        "cv2_imshow(erosion)\n",
        "cv2_imshow(dilation)\n",
        "cv2_imshow(opening)\n",
        "cv2_imshow(closing)\n",
        "cv2_imshow(gradient)\n",
        "\n",
        "# Nesta parte, estamos exibindo as imagens resultantes das operações morfológicas.\n",
        "# Usando a função cv2_imshow, assim mostrando a imagem final, com todas as operaçoes morfologicas aplicadas e funcionando."
      ],
      "metadata": {
        "id": "iMJ7o6EgVA_r"
      },
      "execution_count": null,
      "outputs": []
    }
  ]
}